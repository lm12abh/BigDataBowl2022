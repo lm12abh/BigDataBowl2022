{
 "cells": [
  {
   "cell_type": "markdown",
   "id": "c2ca67d5-5176-401e-beda-2894429553f3",
   "metadata": {},
   "source": [
    "# Data Exploration"
   ]
  },
  {
   "cell_type": "code",
   "execution_count": 12,
   "id": "b07b048f-e0b2-4cf7-b633-b63a6b278431",
   "metadata": {},
   "outputs": [],
   "source": [
    "import pandas as pd\n",
    "import numpy as np\n",
    "import matplotlib.pyplot as plt\n",
    "import plotly"
   ]
  },
  {
   "cell_type": "markdown",
   "id": "f512fc30-b09d-4ce2-9073-2b1d3ccc7a87",
   "metadata": {},
   "source": [
    "### Data Sources"
   ]
  },
  {
   "cell_type": "code",
   "execution_count": 13,
   "id": "5d5efa42-a196-43a3-889c-256ff37fe4e5",
   "metadata": {},
   "outputs": [],
   "source": [
    "data_location='/Users/laurencemcdonald/Desktop/BigDataBowl/Data/nfl-big-data-bowl-2022/'"
   ]
  },
  {
   "cell_type": "code",
   "execution_count": 14,
   "id": "755ab47e-6e30-4a1e-a4b6-bf50b080e731",
   "metadata": {},
   "outputs": [
    {
     "data": {
      "text/html": [
       "<div>\n",
       "<style scoped>\n",
       "    .dataframe tbody tr th:only-of-type {\n",
       "        vertical-align: middle;\n",
       "    }\n",
       "\n",
       "    .dataframe tbody tr th {\n",
       "        vertical-align: top;\n",
       "    }\n",
       "\n",
       "    .dataframe thead th {\n",
       "        text-align: right;\n",
       "    }\n",
       "</style>\n",
       "<table border=\"1\" class=\"dataframe\">\n",
       "  <thead>\n",
       "    <tr style=\"text-align: right;\">\n",
       "      <th></th>\n",
       "      <th>gameId</th>\n",
       "      <th>season</th>\n",
       "      <th>week</th>\n",
       "      <th>gameDate</th>\n",
       "      <th>gameTimeEastern</th>\n",
       "      <th>homeTeamAbbr</th>\n",
       "      <th>visitorTeamAbbr</th>\n",
       "    </tr>\n",
       "  </thead>\n",
       "  <tbody>\n",
       "    <tr>\n",
       "      <th>0</th>\n",
       "      <td>2018090600</td>\n",
       "      <td>2018</td>\n",
       "      <td>1</td>\n",
       "      <td>09/06/2018</td>\n",
       "      <td>20:20:00</td>\n",
       "      <td>PHI</td>\n",
       "      <td>ATL</td>\n",
       "    </tr>\n",
       "    <tr>\n",
       "      <th>1</th>\n",
       "      <td>2018090900</td>\n",
       "      <td>2018</td>\n",
       "      <td>1</td>\n",
       "      <td>09/09/2018</td>\n",
       "      <td>13:00:00</td>\n",
       "      <td>BAL</td>\n",
       "      <td>BUF</td>\n",
       "    </tr>\n",
       "    <tr>\n",
       "      <th>2</th>\n",
       "      <td>2018090901</td>\n",
       "      <td>2018</td>\n",
       "      <td>1</td>\n",
       "      <td>09/09/2018</td>\n",
       "      <td>13:00:00</td>\n",
       "      <td>CLE</td>\n",
       "      <td>PIT</td>\n",
       "    </tr>\n",
       "    <tr>\n",
       "      <th>3</th>\n",
       "      <td>2018090902</td>\n",
       "      <td>2018</td>\n",
       "      <td>1</td>\n",
       "      <td>09/09/2018</td>\n",
       "      <td>13:00:00</td>\n",
       "      <td>IND</td>\n",
       "      <td>CIN</td>\n",
       "    </tr>\n",
       "    <tr>\n",
       "      <th>4</th>\n",
       "      <td>2018090903</td>\n",
       "      <td>2018</td>\n",
       "      <td>1</td>\n",
       "      <td>09/09/2018</td>\n",
       "      <td>13:00:00</td>\n",
       "      <td>MIA</td>\n",
       "      <td>TEN</td>\n",
       "    </tr>\n",
       "  </tbody>\n",
       "</table>\n",
       "</div>"
      ],
      "text/plain": [
       "       gameId  season  week    gameDate gameTimeEastern homeTeamAbbr  \\\n",
       "0  2018090600    2018     1  09/06/2018        20:20:00          PHI   \n",
       "1  2018090900    2018     1  09/09/2018        13:00:00          BAL   \n",
       "2  2018090901    2018     1  09/09/2018        13:00:00          CLE   \n",
       "3  2018090902    2018     1  09/09/2018        13:00:00          IND   \n",
       "4  2018090903    2018     1  09/09/2018        13:00:00          MIA   \n",
       "\n",
       "  visitorTeamAbbr  \n",
       "0             ATL  \n",
       "1             BUF  \n",
       "2             PIT  \n",
       "3             CIN  \n",
       "4             TEN  "
      ]
     },
     "execution_count": 14,
     "metadata": {},
     "output_type": "execute_result"
    }
   ],
   "source": [
    "pd.read_csv(data_location+'games.csv').head()"
   ]
  },
  {
   "cell_type": "code",
   "execution_count": null,
   "id": "acd23335-1446-4072-ac75-69831ca8c626",
   "metadata": {},
   "outputs": [],
   "source": []
  },
  {
   "cell_type": "code",
   "execution_count": null,
   "id": "fd06ebd1-37eb-4d34-8320-7739d14d6e55",
   "metadata": {},
   "outputs": [],
   "source": []
  },
  {
   "cell_type": "code",
   "execution_count": null,
   "id": "d732801f-919d-4ee8-a7fd-f511a1fdf4f3",
   "metadata": {},
   "outputs": [],
   "source": []
  },
  {
   "cell_type": "code",
   "execution_count": 9,
   "id": "0469053c-875d-4c05-9bcf-efeec4d26274",
   "metadata": {},
   "outputs": [
    {
     "name": "stdout",
     "output_type": "stream",
     "text": [
      "PFFScoutingData.csv players.csv         tracking2018.csv    tracking2020.csv\n",
      "games.csv           plays.csv           tracking2019.csv\n"
     ]
    }
   ],
   "source": [
    "! ls '/Users/laurencemcdonald/Desktop/BigDataBowl/Data/nfl-big-data-bowl-2022'"
   ]
  },
  {
   "cell_type": "code",
   "execution_count": null,
   "id": "2f51d0b9-2673-4504-98ef-1dc493dfe774",
   "metadata": {},
   "outputs": [],
   "source": []
  }
 ],
 "metadata": {
  "kernelspec": {
   "display_name": "Python 3 (ipykernel)",
   "language": "python",
   "name": "python3"
  },
  "language_info": {
   "codemirror_mode": {
    "name": "ipython",
    "version": 3
   },
   "file_extension": ".py",
   "mimetype": "text/x-python",
   "name": "python",
   "nbconvert_exporter": "python",
   "pygments_lexer": "ipython3",
   "version": "3.7.3"
  }
 },
 "nbformat": 4,
 "nbformat_minor": 5
}

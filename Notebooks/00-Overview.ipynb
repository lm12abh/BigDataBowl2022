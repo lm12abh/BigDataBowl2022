{
 "cells": [
  {
   "cell_type": "markdown",
   "id": "dfd2e75b-5909-4167-bf25-91e79f620b6d",
   "metadata": {},
   "source": [
    "# NFL Big Data Bowl 2022"
   ]
  },
  {
   "cell_type": "markdown",
   "id": "0e9fc45a-0c53-44aa-bacc-56ee986957df",
   "metadata": {},
   "source": [
    "### Kaggle Overview\n",
    "Before National Football League (NFL) coaches celebrate a big W, they strategize ways to improve field position and score points. Both of these objectives receive significant contributions from special teams plays, which consist of punts, kickoffs, field goals and extra points. These play types take on important roles in a game’s final score—so much so that coaches say they're a third of the game. Yet special teams remain an understudied part of American football, with an opportunity for data science to offer better ways to understand its impact.\n",
    "\n",
    "The 2022 Big Data Bowl creates the opportunity for you (and the world!) to learn more about special teams play than ever before. We've provided the NFL's Next Gen Stats (NGS) tracking data from all 2018-2020 special teams plays. This data provides location information for each special teams player, wherever they are on the field, and includes their speed, acceleration, and direction. Additionally, and for the first time in Big Data Bowl history, participants can utilize scouting data from PFF, which supplements the tracking data with football specific metrics that coaches find critical to team success.\n",
    "\n",
    "The NFL is America's most popular sports league. Founded in 1920, the organization behind American football has developed the model for the successful modern sports league. They're committed to advancing every aspect of the game, including the lesser researched special teams. In this competition, you’ll quantify what happens on special teams plays. You might create a new special teams metric, quantify team or individual strategies, rank players, or even something we haven’t considered.\n",
    "\n",
    "With your creativity and analytical skills, the development of these new methods could lead to additional stats for special teams plays. If successful, your effort may even be adopted by the NFL for on air distribution, and you can watch future games knowing you had a hand in improving America's most popular sports league."
   ]
  },
  {
   "cell_type": "markdown",
   "id": "f641c974-c09a-4f44-8096-c2d218247de4",
   "metadata": {},
   "source": [
    "### Personal Objectives\n",
    "The personal objectives for this work is to use data science concepts to explore the data and also build a user friendly dashboard."
   ]
  },
  {
   "cell_type": "markdown",
   "id": "21fcbe1a-7a94-4c09-a481-84dffe58cd8a",
   "metadata": {},
   "source": [
    "### Overview of the Data\n",
    "Game Data - games.csv contains the teams playing in each game. Primary key gameId.\n",
    "Play Data - Play level information for each game, plays.csv. Primary keys gameId and playId.\n",
    "Player Data - Contains player level information players.csv. Primary keys nflId.\n",
    "Tracking Data - contains player tracking data from a given season, tracking[season].csv. Primary keys gameId, playId, nflId.\n",
    "PFF Scouting data - Play level scouting information for each game, PFFScoutingData.csv. Primary keys gameId and playId."
   ]
  },
  {
   "cell_type": "markdown",
   "id": "1c224c3a-8b8d-4fda-90a5-e6bc25bd65f8",
   "metadata": {},
   "source": [
    "# Methodology and Approach\n",
    "- <b>0</b> An overview of the project and any qualitative descriptions.\n",
    "- <b>1</b> Data Exploration, exploring data integrity.\n",
    "- <b>2</b> Feature Transformation, if required any feature engineering or transformations, or indeed supplimentary data. One thing we are perhaps missing here is weather data which has a big effect upon a game. For example a run focused team might do better in a rainstorm as opposed to a pass play team.\n",
    "- <b>3</b> Model exploration, exploring any opportunities for prediction.\n",
    "- <b>4</b> Dashboarding, this will be very important for suppling the data to the fingertips of the client. Allowing them to create their own views."
   ]
  },
  {
   "cell_type": "code",
   "execution_count": null,
   "id": "1b54aed6-1264-4506-b181-db26492460ce",
   "metadata": {},
   "outputs": [],
   "source": []
  }
 ],
 "metadata": {
  "kernelspec": {
   "display_name": "Python 3 (ipykernel)",
   "language": "python",
   "name": "python3"
  },
  "language_info": {
   "codemirror_mode": {
    "name": "ipython",
    "version": 3
   },
   "file_extension": ".py",
   "mimetype": "text/x-python",
   "name": "python",
   "nbconvert_exporter": "python",
   "pygments_lexer": "ipython3",
   "version": "3.7.3"
  }
 },
 "nbformat": 4,
 "nbformat_minor": 5
}
